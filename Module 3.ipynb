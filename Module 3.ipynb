{
 "cells": [
  {
   "cell_type": "code",
   "execution_count": 27,
   "id": "30516c70",
   "metadata": {},
   "outputs": [],
   "source": [
    "import csv\n",
    "import pandas as pd\n",
    "from sklearn.metrics import DistanceMetric"
   ]
  },
  {
   "cell_type": "code",
   "execution_count": 28,
   "id": "0493f7b5",
   "metadata": {},
   "outputs": [
    {
     "data": {
      "text/html": [
       "<div>\n",
       "<style scoped>\n",
       "    .dataframe tbody tr th:only-of-type {\n",
       "        vertical-align: middle;\n",
       "    }\n",
       "\n",
       "    .dataframe tbody tr th {\n",
       "        vertical-align: top;\n",
       "    }\n",
       "\n",
       "    .dataframe thead th {\n",
       "        text-align: right;\n",
       "    }\n",
       "</style>\n",
       "<table border=\"1\" class=\"dataframe\">\n",
       "  <thead>\n",
       "    <tr style=\"text-align: right;\">\n",
       "      <th></th>\n",
       "      <th>protein</th>\n",
       "      <th>fat</th>\n",
       "      <th>carbs</th>\n",
       "    </tr>\n",
       "  </thead>\n",
       "  <tbody>\n",
       "    <tr>\n",
       "      <th>0</th>\n",
       "      <td>0.900</td>\n",
       "      <td>5.000</td>\n",
       "      <td>0.8</td>\n",
       "    </tr>\n",
       "    <tr>\n",
       "      <th>1</th>\n",
       "      <td>7.800</td>\n",
       "      <td>19.400</td>\n",
       "      <td>3.1</td>\n",
       "    </tr>\n",
       "    <tr>\n",
       "      <th>2</th>\n",
       "      <td>0.800</td>\n",
       "      <td>3.600</td>\n",
       "      <td>0.9</td>\n",
       "    </tr>\n",
       "    <tr>\n",
       "      <th>3</th>\n",
       "      <td>1.500</td>\n",
       "      <td>2.000</td>\n",
       "      <td>1.5</td>\n",
       "    </tr>\n",
       "    <tr>\n",
       "      <th>4</th>\n",
       "      <td>1.200</td>\n",
       "      <td>2.300</td>\n",
       "      <td>1.2</td>\n",
       "    </tr>\n",
       "    <tr>\n",
       "      <th>...</th>\n",
       "      <td>...</td>\n",
       "      <td>...</td>\n",
       "      <td>...</td>\n",
       "    </tr>\n",
       "    <tr>\n",
       "      <th>2390</th>\n",
       "      <td>0.500</td>\n",
       "      <td>0.095</td>\n",
       "      <td>6.7</td>\n",
       "    </tr>\n",
       "    <tr>\n",
       "      <th>2391</th>\n",
       "      <td>0.062</td>\n",
       "      <td>0.099</td>\n",
       "      <td>0.2</td>\n",
       "    </tr>\n",
       "    <tr>\n",
       "      <th>2392</th>\n",
       "      <td>0.400</td>\n",
       "      <td>0.070</td>\n",
       "      <td>0.7</td>\n",
       "    </tr>\n",
       "    <tr>\n",
       "      <th>2393</th>\n",
       "      <td>1.800</td>\n",
       "      <td>0.300</td>\n",
       "      <td>3.3</td>\n",
       "    </tr>\n",
       "    <tr>\n",
       "      <th>2394</th>\n",
       "      <td>0.500</td>\n",
       "      <td>0.035</td>\n",
       "      <td>0.9</td>\n",
       "    </tr>\n",
       "  </tbody>\n",
       "</table>\n",
       "<p>2395 rows × 3 columns</p>\n",
       "</div>"
      ],
      "text/plain": [
       "      protein     fat  carbs\n",
       "0       0.900   5.000    0.8\n",
       "1       7.800  19.400    3.1\n",
       "2       0.800   3.600    0.9\n",
       "3       1.500   2.000    1.5\n",
       "4       1.200   2.300    1.2\n",
       "...       ...     ...    ...\n",
       "2390    0.500   0.095    6.7\n",
       "2391    0.062   0.099    0.2\n",
       "2392    0.400   0.070    0.7\n",
       "2393    1.800   0.300    3.3\n",
       "2394    0.500   0.035    0.9\n",
       "\n",
       "[2395 rows x 3 columns]"
      ]
     },
     "execution_count": 28,
     "metadata": {},
     "output_type": "execute_result"
    }
   ],
   "source": [
    "food_macro_map = {}\n",
    "food_name_map = {}\n",
    "\n",
    "# load necessary categories from csv to map\n",
    "with open(\"FOOD-DATA-GROUP1.csv\", \"r\") as food_file:\n",
    "    reader = csv.DictReader(food_file)\n",
    "    for food in reader:\n",
    "        food_id = food[\"ID\"]\n",
    "        food_name = food[\"food\"]\n",
    "        protein = float(food[\"Protein\"])\n",
    "        fat = float(food[\"Fat\"])\n",
    "        carbs = float(food[\"Carbohydrates\"])\n",
    "        \n",
    "        # fill map for value/keys\n",
    "        food_macro_map[food_id] = {\n",
    "            \"protein\": protein,\n",
    "            \"fat\": fat,\n",
    "            \"carbs\": carbs\n",
    "        }\n",
    "        # fill map for names, used in top 10 similar foods list\n",
    "        food_name_map[food_id] = food_name\n",
    "\n",
    "\n",
    "food_df = pd.DataFrame(food_macro_map.values(), index=food_macro_map.keys())\n",
    "food_df = food_df.fillna(0)\n",
    "food_df"
   ]
  },
  {
   "cell_type": "code",
   "execution_count": 29,
   "id": "a9567961",
   "metadata": {},
   "outputs": [
    {
     "name": "stdout",
     "output_type": "stream",
     "text": [
      "412 pink salmon cooked 0.0\n",
      "1310 veal heart cooked 2.2226110770892893\n",
      "1353 pork blade chops raw 3.405877273185281\n",
      "1334 veal lungs cooked 4.104875150354759\n",
      "1352 pork leg cap steak cooked 4.220189569201839\n",
      "1233 veal shank cooked 5.200000000000003\n",
      "395 wolffish raw 5.277309920783504\n",
      "353 wolffish cooked 5.371219600798315\n",
      "1325 lamb kidneys cooked 5.707889277132133\n",
      "1326 beef lungs cooked 5.854912467321776\n"
     ]
    }
   ],
   "source": [
    "# query: pink salmon cooked\n",
    "query = '412'  \n",
    "query_loc = food_df.loc[[query]]\n",
    "\n",
    "# get pairwise distance from food\n",
    "query_location = food_df.loc[[query]]\n",
    "pairwise_dist = dist.pairwise(food_df, query_location)\n",
    "query_distances = list(zip(food_df.index, pairwise_dist.flatten()))\n",
    "\n",
    "# print top 10 most similar foods\n",
    "for similar_food_id, macro_distance in sorted(query_distances, key=lambda x: x[1], reverse=False)[:10]:\n",
    "    print(similar_food_id, food_name_map[similar_food_id], macro_distance)\n"
   ]
  },
  {
   "cell_type": "code",
   "execution_count": 30,
   "id": "def2705b",
   "metadata": {},
   "outputs": [
    {
     "name": "stdout",
     "output_type": "stream",
     "text": [
      "1372 pork backfat 0.0\n",
      "1430 duck meat raw 163.9161370945521\n",
      "1390 pork belly raw 164.41374638393228\n",
      "1676 menhaden fish oil 184.772102872701\n",
      "1692 nutmeg butter oil 184.772102872701\n",
      "1705 sheanut oil 184.772102872701\n",
      "1710 babassu oil 184.772102872701\n",
      "1721 tomatoseed oil 184.772102872701\n",
      "1403 pork spareribs raw 211.84947486363993\n",
      "1357 pork carcass raw 248.26648988536493\n"
     ]
    }
   ],
   "source": [
    "# query: pork backfat\n",
    "query = '1372'  \n",
    "dist = DistanceMetric.get_metric('euclidean')\n",
    "\n",
    "# get pairwise distance from food\n",
    "query_location = food_df.loc[[query]]\n",
    "pairwise_dist = dist.pairwise(food_df, query_location)\n",
    "query_distances = list(zip(food_df.index, pairwise_dist.flatten()))\n",
    "\n",
    "# print top 10 most similar foods\n",
    "for similar_food_id, macro_distance in sorted(query_distances, key=lambda x: x[1], reverse=False)[:10]:\n",
    "    print(similar_food_id, food_name_map[similar_food_id], macro_distance)"
   ]
  },
  {
   "cell_type": "code",
   "execution_count": 31,
   "id": "cfdb4d95",
   "metadata": {},
   "outputs": [
    {
     "name": "stdout",
     "output_type": "stream",
     "text": [
      "2274 string beans wellsley farms 0.0\n",
      "1032 white pepper 0.1414213562373094\n",
      "2167 hungarian pepper 0.17320508075688776\n",
      "578 wine light 0.19999999999999998\n",
      "2367 iceberg lettuce 0.20500000000000002\n",
      "2103 celery cooked 0.22271955459725573\n",
      "1041 black pepper 0.22368728171266236\n",
      "1075 onion powder 0.2248910847499295\n",
      "2305 onion cooked 0.22617692189964914\n",
      "892 mulberries 0.22891264709491255\n"
     ]
    }
   ],
   "source": [
    "# query: string beans wellsley farms\n",
    "query = '2274'  \n",
    "dist = DistanceMetric.get_metric('euclidean')\n",
    "\n",
    "# get pairwise distance from food\n",
    "query_location = food_df.loc[[query]]\n",
    "pairwise_dist = dist.pairwise(food_df, query_location)\n",
    "query_distances = list(zip(food_df.index, pairwise_dist.flatten()))\n",
    "\n",
    "# print top 10 most similar foods\n",
    "for similar_food_id, macro_distance in sorted(query_distances, key=lambda x: x[1], reverse=False)[:10]:\n",
    "    print(similar_food_id, food_name_map[similar_food_id], macro_distance)"
   ]
  },
  {
   "cell_type": "code",
   "execution_count": null,
   "id": "3a16d11c",
   "metadata": {},
   "outputs": [],
   "source": []
  }
 ],
 "metadata": {
  "kernelspec": {
   "display_name": "Python 3 (ipykernel)",
   "language": "python",
   "name": "python3"
  },
  "language_info": {
   "codemirror_mode": {
    "name": "ipython",
    "version": 3
   },
   "file_extension": ".py",
   "mimetype": "text/x-python",
   "name": "python",
   "nbconvert_exporter": "python",
   "pygments_lexer": "ipython3",
   "version": "3.11.5"
  }
 },
 "nbformat": 4,
 "nbformat_minor": 5
}
